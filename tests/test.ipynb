{
 "cells": [
  {
   "cell_type": "code",
   "execution_count": 1,
   "metadata": {},
   "outputs": [],
   "source": [
    "import trimesh\n",
    "import kaolin\n",
    "from csdf import index_vertices_by_faces\n",
    "import torch\n",
    "import os\n",
    "import csdf"
   ]
  },
  {
   "cell_type": "code",
   "execution_count": 2,
   "metadata": {},
   "outputs": [],
   "source": [
    "os.environ[\"CUDA_VISIBLE_DIVICES\"] = \"1\""
   ]
  },
  {
   "cell_type": "code",
   "execution_count": 3,
   "metadata": {},
   "outputs": [],
   "source": [
    "device = \"cuda\""
   ]
  },
  {
   "cell_type": "code",
   "execution_count": 4,
   "metadata": {},
   "outputs": [
    {
     "name": "stderr",
     "output_type": "stream",
     "text": [
      "/tmp/ipykernel_712835/2183168084.py:3: UserWarning: The given NumPy array is not writeable, and PyTorch does not support non-writeable tensors. This means you can write to the underlying (supposedly non-writeable) NumPy array using the tensor. You may want to copy the array to protect its data or make it writeable before converting it to a tensor. This type of warning will be suppressed for the rest of this program. (Triggered internally at  /opt/conda/conda-bld/pytorch_1640811803361/work/torch/csrc/utils/tensor_numpy.cpp:189.)\n",
      "  verts = torch.Tensor(sphere_mesh.vertices).to(device).unsqueeze(0)\n"
     ]
    }
   ],
   "source": [
    "sphere_mesh = trimesh.primitives.Sphere(radius=1)\n",
    "samples, _ = trimesh.sample.sample_surface(sphere_mesh, 10000)\n",
    "verts = torch.Tensor(sphere_mesh.vertices).to(device).unsqueeze(0)\n",
    "faces = torch.Tensor(sphere_mesh.faces).long().to(device)\n",
    "face_verts = index_vertices_by_faces(verts, faces)\n"
   ]
  },
  {
   "cell_type": "code",
   "execution_count": 5,
   "metadata": {},
   "outputs": [],
   "source": [
    "for i in range(50):\n",
    "    x = torch.Tensor(samples).to(device).requires_grad_()\n",
    "    x = x*1.01\n",
    "    signs = kaolin.ops.mesh.check_sign(verts, faces, x.unsqueeze(0))\n",
    "    dis, dis_faces, dis_types = kaolin.metrics.trianglemesh.point_to_mesh_distance(\n",
    "        x.unsqueeze(0), face_verts)\n",
    "    dis = torch.sqrt(dis + 1e-8)\n",
    "    dis = torch.where(signs, -dis, dis)\n",
    "    g = torch.autograd.grad([dis.sum()], [x], create_graph=True,\n",
    "                            retain_graph=True)[0]\n"
   ]
  },
  {
   "cell_type": "code",
   "execution_count": 6,
   "metadata": {},
   "outputs": [],
   "source": [
    "for i in range(50):\n",
    "    x = torch.Tensor(samples).to(device).requires_grad_()\n",
    "    x = x*1.01\n",
    "    signs = kaolin.ops.mesh.check_sign(verts, faces, x.unsqueeze(0))\n",
    "    dis_, dis_faces, dis_types = csdf.compute_sdf(\n",
    "        x, face_verts.squeeze(0))\n",
    "    dis_ = torch.sqrt(dis_ + 1e-8)\n",
    "    dis_ = torch.where(signs, -dis_, dis_)\n",
    "    g_ = torch.autograd.grad([dis_.sum()], [x], create_graph=True,\n",
    "                            retain_graph=True)[0]\n"
   ]
  }
 ],
 "metadata": {
  "kernelspec": {
   "display_name": "Python 3.9.12",
   "language": "python",
   "name": "python3"
  },
  "language_info": {
   "codemirror_mode": {
    "name": "ipython",
    "version": 3
   },
   "file_extension": ".py",
   "mimetype": "text/x-python",
   "name": "python",
   "nbconvert_exporter": "python",
   "pygments_lexer": "ipython3",
   "version": "3.9.12"
  },
  "orig_nbformat": 4,
  "vscode": {
   "interpreter": {
    "hash": "fd0ec96cd04fd8bd62e103ad75100b434611db30695cb18be755be83f2efa014"
   }
  }
 },
 "nbformat": 4,
 "nbformat_minor": 2
}
